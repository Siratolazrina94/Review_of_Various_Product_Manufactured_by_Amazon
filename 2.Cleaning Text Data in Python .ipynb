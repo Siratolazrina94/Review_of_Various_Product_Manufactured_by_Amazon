{
 "cells": [
  {
   "cell_type": "markdown",
   "metadata": {},
   "source": [
    "## STUDY CASE (REVISION): Review of Various Products Manufactured by Amazon\n",
    "\n",
    "Continued from basic text data pre-processing.\n"
   ]
  },
  {
   "cell_type": "markdown",
   "metadata": {},
   "source": [
    "## Cleaning Text Data in Python"
   ]
  },
  {
   "cell_type": "markdown",
   "metadata": {},
   "source": [
    "We must clean our text first, which means splitting it into words and handling punctuation and case. Here, we have four columns in our dataset out of which two columns (‘name’, ‘reviews.text’) contain textual data. So, let’s start with the ‘name’ column first and take a look at the text present in this column:"
   ]
  },
  {
   "cell_type": "code",
   "execution_count": 10,
   "metadata": {},
   "outputs": [
    {
     "data": {
      "text/plain": [
       "array(['All-New Fire HD 8 Tablet, 8 HD Display, Wi-Fi, 16 GB - Includes Special Offers, Magenta',\n",
       "       'Fire Tablet, 7 Display, Wi-Fi, 8 GB - Includes Special Offers, Magenta',\n",
       "       'Brand New Amazon Kindle Fire 16gb 7 Ips Display Tablet Wifi 16 Gb Blue,,,',\n",
       "       'Fire Kids Edition Tablet, 7 Display, Wi-Fi, 16 GB, Green Kid-Proof Case',\n",
       "       'Amazon Kindle Paperwhite - eBook reader - 4 GB - 6 monochrome Paperwhite - touchscreen - Wi-Fi - black,,,',\n",
       "       'Kindle Voyage E-reader, 6 High-Resolution Display (300 ppi) with Adaptive Built-in Light, PagePress Sensors, Wi-Fi - Includes Special Offers,',\n",
       "       'Echo (White),,,\\r\\nEcho (White),,,',\n",
       "       'Amazon Fire Tv,,,\\r\\nAmazon Fire Tv,,,'], dtype=object)"
      ]
     },
     "execution_count": 10,
     "metadata": {},
     "output_type": "execute_result"
    }
   ],
   "source": [
    "df['name'].unique()"
   ]
  },
  {
   "cell_type": "markdown",
   "metadata": {},
   "source": [
    "Take a close look at the title of products. Some product names contain repeating names separated by three consecutive commas (,,,). So, let’s clean the name of the products:"
   ]
  },
  {
   "cell_type": "code",
   "execution_count": 11,
   "metadata": {},
   "outputs": [],
   "source": [
    "df['name']=df['name'].apply(lambda x:x.split(',,,')[0])"
   ]
  },
  {
   "cell_type": "markdown",
   "metadata": {},
   "source": [
    "Now, it’s time to move on to the second column – reviews.text’. This column contains product reviews from different users, which are longer in length, and our complete analysis will be based on this data. Therefore, it becomes necessary to clean this thoroughly. The best way of determining data cleaning steps is by taking a look at some product reviews from the dataset:"
   ]
  },
  {
   "cell_type": "code",
   "execution_count": 12,
   "metadata": {},
   "outputs": [
    {
     "name": "stdout",
     "output_type": "stream",
     "text": [
      "Review 1:\n",
      " If your looking for a affordable gift this is it!.\n",
      "Review 2:\n",
      " This is a great tablet for the price, would recommend it to anyone looking for a basic tablet.\n",
      "Review 3:\n",
      " Works great. Love the portability of books. Overall great product\n",
      "Review 4:\n",
      " I am still learning all the things I can do with my new Kindle Fire. It is so much better (lighter in weight and easier to use) than my old tablet.\n",
      "Review 5:\n",
      " Just the right size for reading books and playing some games.\n",
      "Review 6:\n",
      " I love everything about this tablet! The imaging is sharp and clear. It's fast and light weight. Love it!\n"
     ]
    }
   ],
   "source": [
    "for index,text in enumerate(df['reviews.text'][30:36]):\n",
    "    print('Review %d:\\n'%(index+1),text)"
   ]
  },
  {
   "cell_type": "markdown",
   "metadata": {},
   "source": [
    "Here, we can see that we have some contractions like “It’s”, numbers like “3” and punctuations like “,”, “!” and “.” present in the reviews. We’ll handle these by performing the below operations:\n",
    "\n",
    "Expand contractions,Lowercase the reviews,Remove digits and words containing digits, Remove punctuations\n",
    "\n",
    "So, let’s start by expanding contractions."
   ]
  }
 ],
 "metadata": {
  "kernelspec": {
   "display_name": "Python 3",
   "language": "python",
   "name": "python3"
  },
  "language_info": {
   "codemirror_mode": {
    "name": "ipython",
    "version": 3
   },
   "file_extension": ".py",
   "mimetype": "text/x-python",
   "name": "python",
   "nbconvert_exporter": "python",
   "pygments_lexer": "ipython3",
   "version": "3.8.3"
  }
 },
 "nbformat": 4,
 "nbformat_minor": 4
}
