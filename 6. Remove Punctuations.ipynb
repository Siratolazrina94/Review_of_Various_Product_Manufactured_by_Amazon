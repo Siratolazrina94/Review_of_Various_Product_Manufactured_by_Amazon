{
 "cells": [
  {
   "cell_type": "markdown",
   "metadata": {},
   "source": [
    "## STUDY CASE (REVISION): Review of Various Products Manufactured by Amazon"
   ]
  },
  {
   "cell_type": "markdown",
   "metadata": {},
   "source": [
    "## Remove Punctuations\n",
    "Punctuations are the marks in English like commas, hyphens, full stops, etc. These are important for English grammar but not for text analysis. Therefore, they need to be removed:"
   ]
  },
  {
   "cell_type": "code",
   "execution_count": 16,
   "metadata": {},
   "outputs": [],
   "source": [
    "df['cleaned']=df['cleaned'].apply(lambda x: re.sub('[%s]' % re.escape(string.punctuation),'', x))"
   ]
  },
  {
   "cell_type": "markdown",
   "metadata": {},
   "source": [
    "Here, string.punctuations function contains all the punctuations and we use regular expressions to search them in the text and remove them. Finally, we still have some extra spaces present in the data. Let’s remove them:"
   ]
  },
  {
   "cell_type": "code",
   "execution_count": 17,
   "metadata": {},
   "outputs": [],
   "source": [
    "# Removing extra spaces\n",
    "df['cleaned']=df['cleaned'].apply(lambda x: re.sub(' +',' ',x))"
   ]
  },
  {
   "cell_type": "markdown",
   "metadata": {},
   "source": [
    "Let’s see how our text looks after cleaning:"
   ]
  },
  {
   "cell_type": "code",
   "execution_count": 18,
   "metadata": {},
   "outputs": [
    {
     "name": "stdout",
     "output_type": "stream",
     "text": [
      "Review 1:\n",
      " if your looking for a affordable gift this is it\n",
      "Review 2:\n",
      " this is a great tablet for the price would recommend it to anyone looking for a basic tablet\n",
      "Review 3:\n",
      " works great love the portability of books overall great product\n",
      "Review 4:\n",
      " i am still learning all the things i can do with my new kindle fire it is so much better lighter in weight and easier to use than my old tablet\n",
      "Review 5:\n",
      " just the right size for reading books and playing some games\n",
      "Review 6:\n",
      " i love everything about this tablet the imaging is sharp and clear it is fast and light weight love it\n"
     ]
    }
   ],
   "source": [
    "for index,text in enumerate(df['cleaned'][30:36]):\n",
    "    print('Review %d:\\n'%(index+1),text)"
   ]
  }
 ],
 "metadata": {
  "kernelspec": {
   "display_name": "Python 3",
   "language": "python",
   "name": "python3"
  },
  "language_info": {
   "codemirror_mode": {
    "name": "ipython",
    "version": 3
   },
   "file_extension": ".py",
   "mimetype": "text/x-python",
   "name": "python",
   "nbconvert_exporter": "python",
   "pygments_lexer": "ipython3",
   "version": "3.8.3"
  }
 },
 "nbformat": 4,
 "nbformat_minor": 4
}
