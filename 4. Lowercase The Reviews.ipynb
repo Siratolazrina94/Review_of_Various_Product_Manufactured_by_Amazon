{
 "cells": [
  {
   "cell_type": "markdown",
   "metadata": {},
   "source": [
    "## STUDY CASE (REVISION): Review of Various Products Manufactured by Amazon"
   ]
  },
  {
   "cell_type": "markdown",
   "metadata": {},
   "source": [
    "Now we already have expanded the contractions, it’s time to lowercase the words.\n",
    "\n"
   ]
  },
  {
   "cell_type": "markdown",
   "metadata": {},
   "source": [
    "## Lowecase the reviews\n",
    "Natural Language Processing (NLP) is the part of AI that studies how machines interact with human language. Combined with machine learning algorithms, NLP creates systems that learn to perform tasks on their own and get better through experience.\n",
    "\n",
    "In NLP, models treat words like Goat and goat differently, even if they are the same. Therefore, to overcome this problem, we lowercase the words. Here, we using the lower() function available in Python for converting text to lowercase:"
   ]
  },
  {
   "cell_type": "code",
   "execution_count": 14,
   "metadata": {},
   "outputs": [],
   "source": [
    "df['cleaned']=df['reviews.text'].apply(lambda x: x.lower())"
   ]
  }
 ],
 "metadata": {
  "kernelspec": {
   "display_name": "Python 3",
   "language": "python",
   "name": "python3"
  },
  "language_info": {
   "codemirror_mode": {
    "name": "ipython",
    "version": 3
   },
   "file_extension": ".py",
   "mimetype": "text/x-python",
   "name": "python",
   "nbconvert_exporter": "python",
   "pygments_lexer": "ipython3",
   "version": "3.8.3"
  }
 },
 "nbformat": 4,
 "nbformat_minor": 4
}
